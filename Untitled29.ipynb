{
 "cells": [
  {
   "cell_type": "code",
   "execution_count": 1,
   "id": "f93312d1",
   "metadata": {},
   "outputs": [
    {
     "name": "stdout",
     "output_type": "stream",
     "text": [
      "   sepal length (cm)  sepal width (cm)  petal length (cm)  petal width (cm)  \\\n",
      "0                5.1               3.5                1.4               0.2   \n",
      "1                4.9               3.0                1.4               0.2   \n",
      "2                4.7               3.2                1.3               0.2   \n",
      "3                4.6               3.1                1.5               0.2   \n",
      "4                5.0               3.6                1.4               0.2   \n",
      "\n",
      "   target  \n",
      "0       0  \n",
      "1       0  \n",
      "2       0  \n",
      "3       0  \n",
      "4       0  \n",
      "     sepal length (cm)  sepal width (cm)  petal length (cm)  petal width (cm)  \\\n",
      "145                6.7               3.0                5.2               2.3   \n",
      "146                6.3               2.5                5.0               1.9   \n",
      "147                6.5               3.0                5.2               2.0   \n",
      "148                6.2               3.4                5.4               2.3   \n",
      "149                5.9               3.0                5.1               1.8   \n",
      "\n",
      "     target  \n",
      "145       2  \n",
      "146       2  \n",
      "147       2  \n",
      "148       2  \n",
      "149       2  \n",
      "0.7\n",
      "[[10  0  0]\n",
      " [ 1  0  8]\n",
      " [ 0  0 11]]\n"
     ]
    }
   ],
   "source": [
    "      import pandas as pd\n",
    "      from sklearn.datasets import load_iris\n",
    "      from sklearn.linear_model import SGDClassifier\n",
    "      from sklearn.model_selection import train_test_split\n",
    "      from sklearn.metrics import accuracy_score,confusion_matrix\n",
    "      import matplotlib.pyplot as plt\n",
    "      import seaborn as sns\n",
    "      \n",
    "      iris=load_iris()\n",
    "      \n",
    "      df=pd.DataFrame(data=iris.data,columns=iris.feature_names)\n",
    "      df['target']=iris.target\n",
    "      \n",
    "      print(df.head())\n",
    "      print(df.tail())\n",
    "      \n",
    "      x=df.drop('target',axis=1)\n",
    "      y=df['target']\n",
    "      \n",
    "      x_train,x_test,y_train,y_test=train_test_split(x,y,test_size=0.2,random_state=42)\n",
    "      \n",
    "      sgd=SGDClassifier(max_iter=1000,tol=1e-3)\n",
    "      sgd.fit(x_train,y_train)\n",
    "      y_pred=sgd.predict(x_test)\n",
    "      \n",
    "      acc=accuracy_score(y_test,y_pred)\n",
    "      print(acc)\n",
    "      cm=confusion_matrix(y_test,y_pred)\n",
    "      print(cm)"
   ]
  },
  {
   "cell_type": "code",
   "execution_count": null,
   "id": "df833351",
   "metadata": {},
   "outputs": [],
   "source": []
  }
 ],
 "metadata": {
  "kernelspec": {
   "display_name": "Python 3 (ipykernel)",
   "language": "python",
   "name": "python3"
  },
  "language_info": {
   "codemirror_mode": {
    "name": "ipython",
    "version": 3
   },
   "file_extension": ".py",
   "mimetype": "text/x-python",
   "name": "python",
   "nbconvert_exporter": "python",
   "pygments_lexer": "ipython3",
   "version": "3.11.3"
  }
 },
 "nbformat": 4,
 "nbformat_minor": 5
}
